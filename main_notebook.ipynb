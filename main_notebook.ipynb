{
 "cells": [
  {
   "cell_type": "code",
   "execution_count": null,
   "metadata": {},
   "outputs": [],
   "source": [
    "# Token is github access token\n",
    "import os\n",
    "\n",
    "#!rm -r ./AML-Project/\n",
    "if not os.path.isdir('./AML-Project'):\n",
    "    !git clone -b development \"https://<username>:<token>@github.com/DarthReca/AML-Project.git\"\n",
    "    !pip3 install -r \"./AML-Project/requirements.txt\""
   ]
  }
 ],
 "metadata": {
  "language_info": {
   "name": "python"
  },
  "orig_nbformat": 4
 },
 "nbformat": 4,
 "nbformat_minor": 2
}
