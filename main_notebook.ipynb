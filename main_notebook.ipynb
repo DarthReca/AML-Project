{
 "cells": [
  {
   "cell_type": "markdown",
   "metadata": {},
   "source": [
    "# Preparation"
   ]
  },
  {
   "cell_type": "code",
   "execution_count": null,
   "metadata": {},
   "outputs": [],
   "source": [
    "# Token is github access token\n",
    "\n",
    "#!rm -r ./AML-Project/\n",
    "![[ ! -d \"AML-Project\" ]] && git clone -b development \"https://<username>:<token>@github.com/DarthReca/AML-Project.git\"\n",
    "!mkdir -p \"./AML-Project/new_txt_list\"\n",
    "!pip3 install -r \"./AML-Project/requirements.txt\""
   ]
  },
  {
   "cell_type": "markdown",
   "metadata": {},
   "source": [
    "# Runner"
   ]
  },
  {
   "cell_type": "code",
   "execution_count": null,
   "metadata": {},
   "outputs": [],
   "source": [
    "# Runner\n",
    "!cd \"./AML-Project\" && python \"main.py\" --epochs_step1 2 --epochs_step2 2 --path_dataset \"data\""
   ]
  }
 ],
 "metadata": {
  "language_info": {
   "name": "python"
  },
  "orig_nbformat": 4
 },
 "nbformat": 4,
 "nbformat_minor": 2
}
