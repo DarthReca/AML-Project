{
 "cells": [
  {
   "cell_type": "markdown",
   "metadata": {},
   "source": [
    "# Preparation"
   ]
  },
  {
   "cell_type": "code",
   "execution_count": null,
   "metadata": {},
   "outputs": [],
   "source": [
    "# Token is github access token\n",
    "\n",
    "#!rm -r ./AML-Project/\n",
    "![[ ! -d \"AML-Project\" ]] && git clone -b development \"https://<username>:<token>@github.com/DarthReca/AML-Project.git\"\n",
    "!mkdir -p \"./AML-Project/new_txt_list\"\n",
    "!pip3 install -r \"./AML-Project/requirements.txt\""
   ]
  },
  {
   "cell_type": "markdown",
   "metadata": {},
   "source": [
    "# Runner"
   ]
  },
  {
   "cell_type": "code",
   "execution_count": null,
   "metadata": {},
   "outputs": [],
   "source": [
    "# Runner\n",
    "!cd \"./AML-Project\" && python \"main.py\" --epochs_step1 2 --epochs_step2 2 --path_dataset \"data\""
   ]
  },
  {
   "cell_type": "code",
   "execution_count": null,
   "metadata": {},
   "outputs": [],
   "source": [
    "# Remove useless weights\n",
    "!find \"./AML-Project/weights\" -name \"*_10.pth\" -delete"
   ]
  },
  {
   "cell_type": "code",
   "execution_count": null,
   "metadata": {},
   "outputs": [],
   "source": [
    "#Debug Runner\n",
    "!cd \"./AML-Project\" && python \"main.py\" --epochs_step1 2 --epochs_step2 2 --path_dataset \"data\" --batch_size 16 --source \"Art_debug\" --target \"Clipart_debug\" --n_classes_known 5 --n_classes_tot 8 "
   ]
  },
  {
   "cell_type": "code",
   "execution_count": 1,
   "metadata": {},
   "outputs": [
    {
     "name": "stderr",
     "output_type": "stream",
     "text": [
      "Impossibile trovare il percorso specificato.\n"
     ]
    }
   ],
   "source": [
    "#Run with Step1 weights \n",
    "#weights will be in AML-Project/weights folder and will be called feature_extractor, object_classifier and rotation_classifier .pht\n",
    "!cd \"./AML-Project\" && python \"main.py\" --path_dataset \"data\" --steps eval --load_weights"
   ]
  }
 ],
 "metadata": {
  "interpreter": {
   "hash": "e5fd79f31331f79a0bba0b2102af77632196705e504ea6cba214cd275ef69b90"
  },
  "kernelspec": {
   "display_name": "Python 3.9.7 64-bit ('base': conda)",
   "language": "python",
   "name": "python3"
  },
  "language_info": {
   "codemirror_mode": {
    "name": "ipython",
    "version": 3
   },
   "file_extension": ".py",
   "mimetype": "text/x-python",
   "name": "python",
   "nbconvert_exporter": "python",
   "pygments_lexer": "ipython3",
   "version": "3.9.7"
  },
  "orig_nbformat": 4
 },
 "nbformat": 4,
 "nbformat_minor": 2
}
